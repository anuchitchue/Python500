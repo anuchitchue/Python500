{
 "metadata": {
  "language_info": {
   "codemirror_mode": {
    "name": "ipython",
    "version": 3
   },
   "file_extension": ".py",
   "mimetype": "text/x-python",
   "name": "python",
   "nbconvert_exporter": "python",
   "pygments_lexer": "ipython3",
   "version": "3.9.5"
  },
  "orig_nbformat": 2,
  "kernelspec": {
   "name": "python3",
   "display_name": "Python 3.9.5 64-bit ('py395': conda)"
  },
  "interpreter": {
   "hash": "bf217b0fd605329de78194f07dc0248e15a774c9e49e8a0d0d51793d881ab282"
  }
 },
 "nbformat": 4,
 "nbformat_minor": 2,
 "cells": [
  {
   "source": [
    "# Basic Data Structure"
   ],
   "cell_type": "markdown",
   "metadata": {}
  },
  {
   "source": [
    "## 1. Number"
   ],
   "cell_type": "markdown",
   "metadata": {}
  },
  {
   "source": [
    "### 1.1 Integer"
   ],
   "cell_type": "markdown",
   "metadata": {}
  },
  {
   "cell_type": "code",
   "execution_count": 2,
   "metadata": {},
   "outputs": [
    {
     "output_type": "stream",
     "name": "stdout",
     "text": [
      "<class 'int'>\n<class 'int'>\n"
     ]
    }
   ],
   "source": [
    "a = 1\n",
    "b = 2\n",
    "print(type(a))\n",
    "print(type(b))"
   ]
  },
  {
   "source": [
    "### 1.2 Floating"
   ],
   "cell_type": "markdown",
   "metadata": {}
  },
  {
   "cell_type": "code",
   "execution_count": 3,
   "metadata": {},
   "outputs": [
    {
     "output_type": "stream",
     "name": "stdout",
     "text": [
      "<class 'float'>\n<class 'float'>\n"
     ]
    }
   ],
   "source": [
    "c = 0.5\n",
    "d = 3/4\n",
    "print(type(c))\n",
    "print(type(d))"
   ]
  },
  {
   "source": [
    "### 1.3 Boolean"
   ],
   "cell_type": "markdown",
   "metadata": {}
  },
  {
   "cell_type": "code",
   "execution_count": 4,
   "metadata": {},
   "outputs": [
    {
     "output_type": "stream",
     "name": "stdout",
     "text": [
      "<class 'bool'>\n<class 'bool'>\n"
     ]
    }
   ],
   "source": [
    "t = True\n",
    "f = False\n",
    "print(type(t))\n",
    "print(type(f))"
   ]
  },
  {
   "source": [
    "### 1.4 Complex Number"
   ],
   "cell_type": "markdown",
   "metadata": {}
  },
  {
   "cell_type": "code",
   "execution_count": 7,
   "metadata": {},
   "outputs": [
    {
     "output_type": "stream",
     "name": "stdout",
     "text": [
      "1.0\n2.0\n<class 'complex'>\n"
     ]
    }
   ],
   "source": [
    "z = 1 + 2j\n",
    "print(z.real)\n",
    "print(z.imag)\n",
    "print(type(z))"
   ]
  },
  {
   "source": [
    "## 2. String"
   ],
   "cell_type": "markdown",
   "metadata": {}
  },
  {
   "cell_type": "code",
   "execution_count": 8,
   "metadata": {},
   "outputs": [
    {
     "output_type": "stream",
     "name": "stdout",
     "text": [
      "<class 'str'>\n<class 'str'>\n"
     ]
    }
   ],
   "source": [
    "# Create String\n",
    "char1 = 'Hello Worls'\n",
    "char2 = '0123456789'\n",
    "print(type(char1))\n",
    "print(type(char2))"
   ]
  },
  {
   "cell_type": "code",
   "execution_count": 10,
   "metadata": {},
   "outputs": [
    {
     "output_type": "stream",
     "name": "stdout",
     "text": [
      "0\n5\n9\n8\n3456789\n0123456\n3456\n"
     ]
    }
   ],
   "source": [
    "# Read String\n",
    "char3 = '0123456789'\n",
    "print(char3[0])\n",
    "print(char3[5])\n",
    "print(char3[-1])\n",
    "print(char3[-2])\n",
    "\n",
    "print(char3[3:])\n",
    "print(char3[:7])\n",
    "print(char3[3:7])"
   ]
  },
  {
   "cell_type": "code",
   "execution_count": 11,
   "metadata": {},
   "outputs": [
    {
     "output_type": "stream",
     "name": "stdout",
     "text": [
      "Abc\naDE\n"
     ]
    }
   ],
   "source": [
    "# String + Replace\n",
    "char4 = 'abc'\n",
    "print(char4.replace('a', 'A'))\n",
    "\n",
    "char4 = 'abc'\n",
    "print(char4.replace('bc', 'DE'))"
   ]
  },
  {
   "cell_type": "code",
   "execution_count": 12,
   "metadata": {},
   "outputs": [
    {
     "output_type": "execute_result",
     "data": {
      "text/plain": [
       "5"
      ]
     },
     "metadata": {},
     "execution_count": 12
    }
   ],
   "source": [
    "# String + len\n",
    "char5 = '12345'\n",
    "len(char5)"
   ]
  },
  {
   "cell_type": "code",
   "execution_count": 13,
   "metadata": {},
   "outputs": [
    {
     "output_type": "stream",
     "name": "stdout",
     "text": [
      "True\nFalse\n"
     ]
    }
   ],
   "source": [
    "# String + in\n",
    "char6 = 'Python'\n",
    "print('P' in char6)\n",
    "print('p' in char6)"
   ]
  },
  {
   "cell_type": "code",
   "execution_count": 14,
   "metadata": {},
   "outputs": [
    {
     "output_type": "stream",
     "name": "stdout",
     "text": [
      "['one', 'two', 'three']\n['I', 'love', 'coding']\n"
     ]
    }
   ],
   "source": [
    "# String + Split\n",
    "char7 = 'one-two-three'\n",
    "print(char7.split(\"-\"))\n",
    "\n",
    "char8 = 'I love coding'\n",
    "print(char8.split(' '))"
   ]
  },
  {
   "cell_type": "code",
   "execution_count": 16,
   "metadata": {},
   "outputs": [
    {
     "output_type": "stream",
     "name": "stdout",
     "text": [
      "abcd\nABC\n"
     ]
    }
   ],
   "source": [
    "# String + Concatenation\n",
    "char9 = 'ab'\n",
    "char10 = 'cd'\n",
    "print(char9 + char10)\n",
    "\n",
    "char11, char12, char13 = 'A', 'B', 'C'\n",
    "print(char11 + char12 + char13)"
   ]
  },
  {
   "source": [],
   "cell_type": "markdown",
   "metadata": {}
  },
  {
   "source": [
    "# Composite Data Structure (แหล่งเก็บข้อมูล)"
   ],
   "cell_type": "markdown",
   "metadata": {}
  },
  {
   "source": [
    "## 1. List []"
   ],
   "cell_type": "markdown",
   "metadata": {}
  },
  {
   "source": [
    "#### CRUD + sort + len + in\n",
    "#### CRUD >>> Create Read Update Delete\n",
    "#### List >> เก็บข้อมูลแบบ index based >> นิยมใช้สุด\n",
    "#### List >> เก็บข้อมูลได้ทุกประเภท"
   ],
   "cell_type": "markdown",
   "metadata": {}
  },
  {
   "cell_type": "code",
   "execution_count": 20,
   "metadata": {},
   "outputs": [
    {
     "output_type": "stream",
     "name": "stdout",
     "text": [
      "<class 'list'>\n<class 'list'>\n<class 'list'>\n"
     ]
    }
   ],
   "source": [
    "list1 = [1, 2, 3, 4, 5]\n",
    "list2 = ['a', 'b', 'c', 'd']\n",
    "list3 = [1, 2, 3, 'a', 'b', 'c']\n",
    "print(type(list1))\n",
    "print(type(list2))\n",
    "print(type(list3))"
   ]
  },
  {
   "cell_type": "code",
   "execution_count": 24,
   "metadata": {},
   "outputs": [
    {
     "output_type": "stream",
     "name": "stdout",
     "text": [
      "1\nc\nb\n['a', 'b', 'c']\n[1, 2, 3, 'a', 'b']\n['a', 'b']\n"
     ]
    }
   ],
   "source": [
    "print(list3[0])\n",
    "print(list3[-1])\n",
    "print(list3[-2])\n",
    "print(list3[3:])\n",
    "print(list3[:5])\n",
    "print(list3[3:5])"
   ]
  },
  {
   "source": [
    "#### Update list >> Replace, Append, Extend, Insert"
   ],
   "cell_type": "markdown",
   "metadata": {}
  },
  {
   "cell_type": "code",
   "execution_count": 28,
   "metadata": {},
   "outputs": [
    {
     "output_type": "stream",
     "name": "stdout",
     "text": [
      "[1, 2, 3, 'a', 'b', 'c']\n[0, 2, 3, 'a', 'b', 'c']\n[0, 2, 3, 'a', 'b', 'x']\n"
     ]
    }
   ],
   "source": [
    "# Replace\n",
    "list5 = [1, 2, 3, 'a', 'b', 'c']\n",
    "print(list5)\n",
    "\n",
    "list5[0] = 0\n",
    "print(list5)\n",
    "\n",
    "list5[-1] = 'x'\n",
    "print(list5)"
   ]
  },
  {
   "cell_type": "code",
   "execution_count": 29,
   "metadata": {},
   "outputs": [
    {
     "output_type": "stream",
     "name": "stdout",
     "text": [
      "[1, 2, 3, 'a', 'b', 'c']\n[1, 2, 3, 'a', 'b', 'c', 'd']\n[1, 2, 3, 'a', 'b', 'c', 'd', 'e']\n"
     ]
    }
   ],
   "source": [
    "# Append >> การเอาสมาชิกใหม่ไปต่อท้าย\n",
    "list6 = [1, 2, 3, 'a', 'b', 'c']\n",
    "print(list6)\n",
    "\n",
    "list6.append('d')\n",
    "print(list6)\n",
    "\n",
    "list6.append('e')\n",
    "print(list6)"
   ]
  },
  {
   "cell_type": "code",
   "execution_count": 30,
   "metadata": {},
   "outputs": [
    {
     "output_type": "stream",
     "name": "stdout",
     "text": [
      "[1, 2, 3, 'a', 'b', 'c']\n"
     ]
    }
   ],
   "source": [
    "# Extend >> การเอา 2 list มาต่อกัน\n",
    "list7 = [1, 2, 3]\n",
    "list8 = ['a', 'b', 'c']\n",
    "\n",
    "list7.extend(list8)\n",
    "print(list7)"
   ]
  },
  {
   "cell_type": "code",
   "execution_count": 31,
   "metadata": {},
   "outputs": [
    {
     "output_type": "stream",
     "name": "stdout",
     "text": [
      "[1, 'one', 2, 3, 'a', 'b', 'c']\n"
     ]
    }
   ],
   "source": [
    "# Insert >> แทรก\n",
    "list9 = [1, 2, 3, 'a', 'b', 'c']\n",
    "\n",
    "list9.insert(1, 'one') # >> (index, insert value)\n",
    "print(list9)"
   ]
  },
  {
   "source": [
    "#### Delete List  >> Del, Remove, Clear"
   ],
   "cell_type": "markdown",
   "metadata": {}
  },
  {
   "cell_type": "code",
   "execution_count": 33,
   "metadata": {},
   "outputs": [
    {
     "output_type": "stream",
     "name": "stdout",
     "text": [
      "[1, 2, 'a', 'b', 'c']\n[1, 2, 'a', 'c']\n"
     ]
    }
   ],
   "source": [
    "# Del >>> Index based\n",
    "list10 = [1, 2, 3, 'a', 'b', 'c']\n",
    "del list10[2]\n",
    "print(list10)\n",
    "\n",
    "del list10[-2]\n",
    "print(list10)"
   ]
  },
  {
   "cell_type": "code",
   "execution_count": 34,
   "metadata": {},
   "outputs": [
    {
     "output_type": "stream",
     "name": "stdout",
     "text": [
      "[2, 3, 'a', 'b', 'c']\n[2, 3, 'b', 'c']\n"
     ]
    }
   ],
   "source": [
    "# Remove >>> value based \n",
    "list11 = [1, 2, 3, 'a', 'b', 'c']\n",
    "list11.remove(1)\n",
    "print(list11)\n",
    "\n",
    "list11.remove('a')\n",
    "print(list11)"
   ]
  },
  {
   "cell_type": "code",
   "execution_count": 35,
   "metadata": {},
   "outputs": [
    {
     "output_type": "stream",
     "name": "stdout",
     "text": [
      "[]\n"
     ]
    }
   ],
   "source": [
    "# clear\n",
    "list12 = [1, 2, 3, 'a', 'b', 'c']\n",
    "list12.clear()\n",
    "print(list12)"
   ]
  },
  {
   "source": [
    "#### List + sort"
   ],
   "cell_type": "markdown",
   "metadata": {}
  },
  {
   "cell_type": "code",
   "execution_count": 39,
   "metadata": {},
   "outputs": [
    {
     "output_type": "stream",
     "name": "stdout",
     "text": [
      "[1, 2, 3, 4, 5]\n[5, 4, 3, 2, 1]\n[1, 5, 4, 2, 3]\n[1, 2, 3, 4, 5]\n"
     ]
    }
   ],
   "source": [
    "list13 = [1, 5, 4, 2, 3]\n",
    "list13.sort()\n",
    "print(list13)\n",
    "\n",
    "list14 = [1, 5, 4, 2, 3]\n",
    "list14.sort(reverse = True)\n",
    "print(list14)\n",
    "\n",
    "list15 = [1, 5, 4, 2, 3]\n",
    "list15_sorted = sorted(list15, reverse = False)\n",
    "print(list15)\n",
    "print(list15_sorted)"
   ]
  },
  {
   "source": [
    "#### List + len"
   ],
   "cell_type": "markdown",
   "metadata": {}
  },
  {
   "cell_type": "code",
   "execution_count": 40,
   "metadata": {},
   "outputs": [
    {
     "output_type": "stream",
     "name": "stdout",
     "text": [
      "6\n"
     ]
    }
   ],
   "source": [
    "list16 = [1, 2, 3, 'a', 'b', 'c']\n",
    "print(len(list16))"
   ]
  },
  {
   "source": [
    "#### List + in"
   ],
   "cell_type": "markdown",
   "metadata": {}
  },
  {
   "cell_type": "code",
   "execution_count": 43,
   "metadata": {},
   "outputs": [
    {
     "output_type": "stream",
     "name": "stdout",
     "text": [
      "True\nFalse\n"
     ]
    }
   ],
   "source": [
    "list17 = [1, 2, 3, 'a', 'b', 'c']\n",
    "print('b' in list17)\n",
    "print(4 in list17)"
   ]
  },
  {
   "source": [
    "## 2. Tuple ()"
   ],
   "cell_type": "markdown",
   "metadata": {}
  },
  {
   "source": [
    "#### เหมือน list แต่ไม่สามารถแก้ไขอะไรได้เลย\n",
    "#### CR + len + in"
   ],
   "cell_type": "markdown",
   "metadata": {}
  },
  {
   "source": [
    "#### Create Tuple"
   ],
   "cell_type": "markdown",
   "metadata": {}
  },
  {
   "cell_type": "code",
   "execution_count": 45,
   "metadata": {},
   "outputs": [
    {
     "output_type": "stream",
     "name": "stdout",
     "text": [
      "<class 'tuple'>\n<class 'tuple'>\n<class 'tuple'>\n"
     ]
    }
   ],
   "source": [
    "tuple1 = (1, 2, 3, 4, 5)\n",
    "tuple2 = ('a', 'b', 'c', 'd')\n",
    "tuple3 = (1, 2, 3, 'a', 'b', 'c')\n",
    "print(type(tuple1))\n",
    "print(type(tuple2))\n",
    "print(type(tuple3))"
   ]
  },
  {
   "source": [
    "#### Read Tuple"
   ],
   "cell_type": "markdown",
   "metadata": {}
  },
  {
   "cell_type": "code",
   "execution_count": 46,
   "metadata": {},
   "outputs": [
    {
     "output_type": "stream",
     "name": "stdout",
     "text": [
      "1\nc\n"
     ]
    }
   ],
   "source": [
    "tuple4 = (1, 2, 3, 'a', 'b', 'c')\n",
    "print(tuple4[0])\n",
    "print(tuple4[-1])"
   ]
  },
  {
   "source": [
    "#### Tuple + len"
   ],
   "cell_type": "markdown",
   "metadata": {}
  },
  {
   "cell_type": "code",
   "execution_count": 47,
   "metadata": {},
   "outputs": [
    {
     "output_type": "stream",
     "name": "stdout",
     "text": [
      "6\n"
     ]
    }
   ],
   "source": [
    "tuple6 = (1, 2, 3, 'a', 'b', 'c')\n",
    "print(len(tuple6))"
   ]
  },
  {
   "source": [
    "#### Tuple + in"
   ],
   "cell_type": "markdown",
   "metadata": {}
  },
  {
   "cell_type": "code",
   "execution_count": 48,
   "metadata": {},
   "outputs": [
    {
     "output_type": "stream",
     "name": "stdout",
     "text": [
      "True\n"
     ]
    }
   ],
   "source": [
    "tuple7 = (1, 2, 3, 'a', 'b', 'c')\n",
    "print('b' in tuple7)"
   ]
  },
  {
   "source": [
    "## 3. Dictionary { : }"
   ],
   "cell_type": "markdown",
   "metadata": {}
  },
  {
   "source": [
    "#### CRUD + len + in\n",
    "#### key : value based"
   ],
   "cell_type": "markdown",
   "metadata": {}
  },
  {
   "source": [
    "#### Create Dictionary"
   ],
   "cell_type": "markdown",
   "metadata": {}
  },
  {
   "source": [
    "dict1 = {\n",
    "    'firstname' : 'John',\n",
    "    'lastname' : 'Doe',\n",
    "    'age' : 32\n",
    "}\n",
    "\n",
    "dict2 = {\n",
    "    'fullname' : 'John Doe',\n",
    "    'hobby' : ['coding', 'study']\n",
    "}\n",
    "\n",
    "print(type(dict1))\n",
    "print(type(dict1))"
   ],
   "cell_type": "code",
   "metadata": {},
   "execution_count": 50,
   "outputs": [
    {
     "output_type": "stream",
     "name": "stdout",
     "text": [
      "<class 'dict'>\n<class 'dict'>\n"
     ]
    }
   ]
  },
  {
   "source": [
    "#### Read Dictionary"
   ],
   "cell_type": "markdown",
   "metadata": {}
  },
  {
   "cell_type": "code",
   "execution_count": 52,
   "metadata": {},
   "outputs": [
    {
     "output_type": "stream",
     "name": "stdout",
     "text": [
      "John\n32\n"
     ]
    }
   ],
   "source": [
    "dict3 = {\n",
    "    'firstname' : 'John',\n",
    "    'lastname' : 'Doe',\n",
    "    'age' : 32\n",
    "}\n",
    "\n",
    "print(dict3['firstname'])\n",
    "print(dict3['age'])"
   ]
  },
  {
   "source": [
    "#### Update Dictionary"
   ],
   "cell_type": "markdown",
   "metadata": {}
  },
  {
   "cell_type": "code",
   "execution_count": 55,
   "metadata": {},
   "outputs": [
    {
     "output_type": "stream",
     "name": "stdout",
     "text": [
      "{'firstname': 'Mario', 'lastname': 'Doe', 'age': 32}\n{'firstname': 'John', 'lastname': 'Doe', 'age': 32, 'blood_group': 'O'}\n{'firstname': 'John', 'lastname': 'Doe', 'age': 32, 'blood_group': 'O', 'height': 180}\n"
     ]
    }
   ],
   "source": [
    "dict4 = {\n",
    "    'firstname' : 'John',\n",
    "    'lastname' : 'Doe',\n",
    "    'age' : 32\n",
    "}\n",
    "\n",
    "dict4['firstname'] = 'Mario'\n",
    "print(dict4)\n",
    "\n",
    "##################################\n",
    "\n",
    "dict5 = {\n",
    "    'firstname' : 'John',\n",
    "    'lastname' : 'Doe',\n",
    "    'age' : 32\n",
    "}\n",
    "\n",
    "dict5['blood_group'] = 'O' # >> ถ้าไม่มี key มะนจะสร้าง key ใหม่เลย\n",
    "print(dict5)\n",
    "\n",
    "###################################\n",
    "\n",
    "dict6 = {\n",
    "    'firstname' : 'John',\n",
    "    'lastname' : 'Doe',\n",
    "    'age' : 32\n",
    "}\n",
    "\n",
    "dict6.update({'blood_group' : 'O',\n",
    "            'height' : 180})\n",
    "print(dict6)"
   ]
  },
  {
   "source": [
    "#### Delete Dictionary"
   ],
   "cell_type": "markdown",
   "metadata": {}
  },
  {
   "cell_type": "code",
   "execution_count": 57,
   "metadata": {},
   "outputs": [
    {
     "output_type": "stream",
     "name": "stdout",
     "text": [
      "{'firstname': 'John', 'age': 32}\n{}\n"
     ]
    }
   ],
   "source": [
    "dict7 = {\n",
    "    'firstname' : 'John',\n",
    "    'lastname' : 'Doe',\n",
    "    'age' : 32\n",
    "}\n",
    "\n",
    "del dict7['lastname']\n",
    "print(dict7)\n",
    "\n",
    "#################################\n",
    "dict8 = {\n",
    "    'firstname' : 'John',\n",
    "    'lastname' : 'Doe',\n",
    "    'age' : 32\n",
    "}\n",
    "dict8.clear()\n",
    "print(dict8)"
   ]
  },
  {
   "source": [
    "#### Dictionary + len"
   ],
   "cell_type": "markdown",
   "metadata": {}
  },
  {
   "cell_type": "code",
   "execution_count": 59,
   "metadata": {},
   "outputs": [
    {
     "output_type": "stream",
     "name": "stdout",
     "text": [
      "3\n3\n3\n"
     ]
    }
   ],
   "source": [
    "dict9 = {\n",
    "    'firstname' : 'John',\n",
    "    'lastname' : 'Doe',\n",
    "    'age' : 32\n",
    "}\n",
    "\n",
    "print(len(dict9))\n",
    "print(len(dict9.keys()))\n",
    "print(len(dict9.values()))"
   ]
  },
  {
   "source": [
    "#### Dictionary + in"
   ],
   "cell_type": "markdown",
   "metadata": {}
  },
  {
   "cell_type": "code",
   "execution_count": 61,
   "metadata": {},
   "outputs": [
    {
     "output_type": "stream",
     "name": "stdout",
     "text": [
      "True\nTrue\nFalse\n"
     ]
    }
   ],
   "source": [
    "dict10 = {\n",
    "    'firstname' : 'John',\n",
    "    'lastname' : 'Doe',\n",
    "    'age' : 32\n",
    "}\n",
    "\n",
    "print('firstname' in dict10)\n",
    "print('firstname' in dict10.keys())      # >>> list ของ keys \n",
    "print('firstname' in dict10.values())    # >>> list ของ values"
   ]
  },
  {
   "source": [
    "## 4. Set {}"
   ],
   "cell_type": "markdown",
   "metadata": {}
  },
  {
   "source": [
    "#### CRUD + len + in\n",
    "#### do not have >>> index based, key based หรือ ไม่มีตัวอ้างอิงถึง Value\n",
    "#### have >>> Union, Intersection, Difference, Symmetric Difference"
   ],
   "cell_type": "markdown",
   "metadata": {}
  },
  {
   "source": [
    "#### 4.1 Create Set"
   ],
   "cell_type": "markdown",
   "metadata": {}
  },
  {
   "cell_type": "code",
   "execution_count": 62,
   "metadata": {},
   "outputs": [
    {
     "output_type": "stream",
     "name": "stdout",
     "text": [
      "<class 'set'>\n<class 'set'>\n"
     ]
    }
   ],
   "source": [
    "set1 = {1, 2, 3, 4, 5}\n",
    "set2 = {1, 2, 3, 'a', 'b', 'c'}\n",
    "print(type(set1))\n",
    "print(type(set2))"
   ]
  },
  {
   "source": [
    "#### 4.2 Read Set"
   ],
   "cell_type": "markdown",
   "metadata": {}
  },
  {
   "cell_type": "code",
   "execution_count": 63,
   "metadata": {},
   "outputs": [
    {
     "output_type": "stream",
     "name": "stdout",
     "text": [
      "a\ne\nc\nd\nb\n"
     ]
    }
   ],
   "source": [
    "set3 = {'a', 'b', 'c', 'd', 'e'}\n",
    "for x in set3:\n",
    "    print(x)"
   ]
  },
  {
   "source": [
    "#### 4.3 Update Set"
   ],
   "cell_type": "markdown",
   "metadata": {}
  },
  {
   "cell_type": "code",
   "execution_count": 66,
   "metadata": {},
   "outputs": [
    {
     "output_type": "stream",
     "name": "stdout",
     "text": [
      "{1, 'a', 'e', 'c', 'd', 'b'}\n{1, 'a', 2, 'e', 'c', 'd', 'b'}\n"
     ]
    }
   ],
   "source": [
    "# ADD\n",
    "set4 = {'a', 'b', 'c', 'd', 'e'}\n",
    "set4.add(1)\n",
    "print(set4)\n",
    "\n",
    "# UPDATE\n",
    "set5 = {'a', 'b', 'c', 'd', 'e'}\n",
    "set5.update({1, 2})\n",
    "print(set5)"
   ]
  },
  {
   "source": [
    "#### 4.4 Delete Set"
   ],
   "cell_type": "markdown",
   "metadata": {}
  },
  {
   "cell_type": "code",
   "execution_count": 68,
   "metadata": {},
   "outputs": [
    {
     "output_type": "stream",
     "name": "stdout",
     "text": [
      "{'e', 'c', 'd', 'b'}\n{'e', 'd', 'b'}\nset()\n"
     ]
    }
   ],
   "source": [
    "# REMOVE\n",
    "set6 = {'a', 'b', 'c', 'd', 'e'}\n",
    "set6.remove('a')\n",
    "print(set6)\n",
    "\n",
    "set6.remove('c')\n",
    "print(set6)\n",
    "\n",
    "# CLEAR\n",
    "set7 = {'a', 'b', 'c', 'd', 'e'}\n",
    "set7.clear()\n",
    "print(set7)"
   ]
  },
  {
   "source": [
    "#### 4.5 set + len"
   ],
   "cell_type": "markdown",
   "metadata": {}
  },
  {
   "cell_type": "code",
   "execution_count": 70,
   "metadata": {},
   "outputs": [
    {
     "output_type": "stream",
     "name": "stdout",
     "text": [
      "5\n"
     ]
    }
   ],
   "source": [
    "set8 = {'a', 'b', 'c', 'd', 'e'}\n",
    "print(len(set8))"
   ]
  },
  {
   "source": [
    "#### 4.6 Set + in"
   ],
   "cell_type": "markdown",
   "metadata": {}
  },
  {
   "cell_type": "code",
   "execution_count": 72,
   "metadata": {},
   "outputs": [
    {
     "output_type": "stream",
     "name": "stdout",
     "text": [
      "True\nFalse\n"
     ]
    }
   ],
   "source": [
    "set9 = {'a', 'b', 'c', 'd', 'e'}\n",
    "print('a' in set9)\n",
    "\n",
    "print(1 in set9)"
   ]
  },
  {
   "source": [
    "#### 4.7 Set + Union   |"
   ],
   "cell_type": "markdown",
   "metadata": {}
  },
  {
   "cell_type": "code",
   "execution_count": 73,
   "metadata": {},
   "outputs": [
    {
     "output_type": "stream",
     "name": "stdout",
     "text": [
      "{1, 2, 3, 4, 5, 6, 7}\n"
     ]
    }
   ],
   "source": [
    "# UNION >>> |\n",
    "setA = {1, 2, 3, 4, 5}\n",
    "setB = {3, 4, 5, 6, 7}\n",
    "\n",
    "print(setA | setB)"
   ]
  },
  {
   "source": [
    "#### 4.8 Set + Intersection   &"
   ],
   "cell_type": "markdown",
   "metadata": {}
  },
  {
   "cell_type": "code",
   "execution_count": 74,
   "metadata": {},
   "outputs": [
    {
     "output_type": "stream",
     "name": "stdout",
     "text": [
      "{3, 4, 5}\n"
     ]
    }
   ],
   "source": [
    "# INTERSECTION >>> &\n",
    "setA = {1, 2, 3, 4, 5}\n",
    "setB = {3, 4, 5, 6, 7}\n",
    "\n",
    "print(setA & setB)"
   ]
  },
  {
   "source": [
    "#### 4.9 Set + Difference   -"
   ],
   "cell_type": "markdown",
   "metadata": {}
  },
  {
   "cell_type": "code",
   "execution_count": 75,
   "metadata": {},
   "outputs": [
    {
     "output_type": "stream",
     "name": "stdout",
     "text": [
      "{1, 2}\n{6, 7}\n"
     ]
    }
   ],
   "source": [
    "# DIFFERENCE >>> -\n",
    "setA = {1, 2, 3, 4, 5}\n",
    "setB = {3, 4, 5, 6, 7}\n",
    "\n",
    "print(setA - setB)\n",
    "print(setB - setA)"
   ]
  },
  {
   "source": [
    "#### 4.10 Set + Symmetric Difference   ^"
   ],
   "cell_type": "markdown",
   "metadata": {}
  },
  {
   "cell_type": "code",
   "execution_count": 77,
   "metadata": {},
   "outputs": [
    {
     "output_type": "stream",
     "name": "stdout",
     "text": [
      "{1, 2, 6, 7}\n"
     ]
    }
   ],
   "source": [
    "# SYMMETRIC DIFFERENCE >>> ^ >>> (A union B) - (A intersec B) >> สมาชิกทั้งหมดของ 2 เซ็ต ลบ สมาชิกที่มีในทั้ง 2 เซ็ต\n",
    "setA = {1, 2, 3, 4, 5}\n",
    "setB = {3, 4, 5, 6, 7}\n",
    "\n",
    "print(setA ^ setB)"
   ]
  },
  {
   "source": [
    "# Exercises"
   ],
   "cell_type": "markdown",
   "metadata": {}
  },
  {
   "cell_type": "code",
   "execution_count": 78,
   "metadata": {},
   "outputs": [
    {
     "output_type": "stream",
     "name": "stdout",
     "text": [
      "5\n<class 'int'>\n"
     ]
    }
   ],
   "source": [
    "numeric1 = 5\n",
    "print(numeric1)\n",
    "print(type(numeric1))"
   ]
  },
  {
   "cell_type": "code",
   "execution_count": 79,
   "metadata": {},
   "outputs": [
    {
     "output_type": "stream",
     "name": "stdout",
     "text": [
      "-3\n<class 'int'>\n"
     ]
    }
   ],
   "source": [
    "numeric2 = -3\n",
    "print(numeric2)\n",
    "print(type(numeric2))"
   ]
  },
  {
   "cell_type": "code",
   "execution_count": 80,
   "metadata": {},
   "outputs": [
    {
     "output_type": "stream",
     "name": "stdout",
     "text": [
      "0\n<class 'int'>\n"
     ]
    }
   ],
   "source": [
    "numeric3 = 0\n",
    "print(numeric3)\n",
    "print(type(numeric3))"
   ]
  },
  {
   "cell_type": "code",
   "execution_count": 101,
   "metadata": {},
   "outputs": [
    {
     "output_type": "stream",
     "name": "stdout",
     "text": [
      "Type int only\n"
     ]
    }
   ],
   "source": [
    "def Check() -> int:\n",
    "    try:\n",
    "        number: int = int(input(\"Type number:\"))\n",
    "        assert isinstance(number, int), \"Number should int\"\n",
    "        return number, type(number)\n",
    "    except ValueError:\n",
    "        print(\"Type int only\")\n",
    "Check()"
   ]
  },
  {
   "cell_type": "code",
   "execution_count": 102,
   "metadata": {},
   "outputs": [
    {
     "output_type": "stream",
     "name": "stdout",
     "text": [
      "5.0 <class 'float'>\n"
     ]
    }
   ],
   "source": [
    "numeric1 = 5.0\n",
    "print(numeric1, type(numeric1))"
   ]
  },
  {
   "cell_type": "code",
   "execution_count": 103,
   "metadata": {},
   "outputs": [
    {
     "output_type": "stream",
     "name": "stdout",
     "text": [
      "-3.1 <class 'float'>\n"
     ]
    }
   ],
   "source": [
    "numeric2 = -3.1\n",
    "print(numeric2, type(numeric2))"
   ]
  },
  {
   "cell_type": "code",
   "execution_count": 104,
   "metadata": {},
   "outputs": [
    {
     "output_type": "stream",
     "name": "stdout",
     "text": [
      "0.0 <class 'float'>\n"
     ]
    }
   ],
   "source": [
    "numeric3 = 0.0\n",
    "print(numeric3, type(numeric3))"
   ]
  },
  {
   "cell_type": "code",
   "execution_count": 117,
   "metadata": {},
   "outputs": [
    {
     "output_type": "stream",
     "name": "stdout",
     "text": [
      "Type float onlt!!\n"
     ]
    }
   ],
   "source": [
    "def chechFloat() -> float:\n",
    "    try:\n",
    "        number: float = input(\"Type float:\")\n",
    "        assert isinstance(number, float), \"Number should be float!!\"\n",
    "        print(number)\n",
    "        print(type(number))\n",
    "    except ValueError:\n",
    "        print(\"Type float only!!\")\n",
    "    except AssertionError:\n",
    "        print(\"Type float onlt!!\")\n",
    "\n",
    "chechFloat()"
   ]
  },
  {
   "cell_type": "code",
   "execution_count": 136,
   "metadata": {},
   "outputs": [
    {
     "output_type": "stream",
     "name": "stdout",
     "text": [
      "x + y = 9 \nx - y = -1 \nx * y = 20 \nx / y = 0.8\n"
     ]
    }
   ],
   "source": [
    "def SumMiPoDi() -> int, float:\n",
    "    try:\n",
    "        x: int = int(input(\"Input X:\"))\n",
    "        y: int = int(input(\"Input Y:\"))\n",
    "        assert isinstance(x, int), \"X should be int\"\n",
    "        assert isinstance(y, int), \"Y should bo int\"\n",
    "        print(f\"x + y = {x + y} \\nx - y = {x - y} \\nx * y = {x * y} \\nx / y = {x / y}\")\n",
    "    except ValueError:\n",
    "        print(\"Input int only\")\n",
    "\n",
    "SumMiPoDi()"
   ]
  },
  {
   "cell_type": "code",
   "execution_count": 140,
   "metadata": {},
   "outputs": [
    {
     "output_type": "stream",
     "name": "stdout",
     "text": [
      "Input float only!\n"
     ]
    }
   ],
   "source": [
    "def SMPD() -> float:\n",
    "    try:\n",
    "        x: float = input(\"Input X:\")\n",
    "        y: float = input(\"Input Y:\")\n",
    "        assert isinstance(x, float), \"X should be float\"\n",
    "        assert isinstance(y, float), \"Y should be float\"\n",
    "        print(f\"x + y = {x + y} \\nx - y = {x - y} \\nx * y = {x * y} \\nx / y = {x / y}\")\n",
    "    except ValueError:\n",
    "        print(\"Input float only!!\")\n",
    "    except AssertionError:\n",
    "        print(\"Input float only!\")\n",
    "\n",
    "SMPD()"
   ]
  },
  {
   "cell_type": "code",
   "execution_count": 142,
   "metadata": {},
   "outputs": [
    {
     "output_type": "stream",
     "name": "stdout",
     "text": [
      "Input float\n"
     ]
    }
   ],
   "source": [
    "def no11() -> float:\n",
    "    try:\n",
    "        x: int = int(input(\"Input INT:\"))\n",
    "        y: float = input(\"Input FLOAT:\")\n",
    "        assert isinstance(x, int), \"INT should be int\"\n",
    "        assert isinstance(y, float), \"FLOAT should be float\"\n",
    "        print(f\"X + Y = {x + y} \\nX - Y = {x - y} \\nx * y = {x * y} \\nx / y = {x / y}\")\n",
    "    except ValueError:\n",
    "        print(\"Input int\")\n",
    "    except AssertionError:\n",
    "        print(\"Input float\")\n",
    "\n",
    "no11()"
   ]
  },
  {
   "cell_type": "code",
   "execution_count": 143,
   "metadata": {},
   "outputs": [
    {
     "output_type": "stream",
     "name": "stdout",
     "text": [
      "True\n<class 'bool'>\n"
     ]
    }
   ],
   "source": [
    "logic1 = True\n",
    "print(logic1)\n",
    "print(type(logic1))"
   ]
  },
  {
   "cell_type": "code",
   "execution_count": 144,
   "metadata": {},
   "outputs": [
    {
     "output_type": "stream",
     "name": "stdout",
     "text": [
      "False <class 'bool'>\n"
     ]
    }
   ],
   "source": [
    "logic2 = False\n",
    "print(logic2, type(logic2))"
   ]
  },
  {
   "cell_type": "code",
   "execution_count": 146,
   "metadata": {},
   "outputs": [
    {
     "output_type": "stream",
     "name": "stdout",
     "text": [
      "False\nTrue\n"
     ]
    }
   ],
   "source": [
    "logic1 = True\n",
    "logic2 = False\n",
    "print(logic1 & logic2)\n",
    "print(logic1 | logic2)"
   ]
  },
  {
   "cell_type": "code",
   "execution_count": 149,
   "metadata": {},
   "outputs": [
    {
     "output_type": "stream",
     "name": "stdout",
     "text": [
      "(1+2j) <class 'complex'>\n1.0\n2.0\n"
     ]
    }
   ],
   "source": [
    "complex1 = 1 + 2j\n",
    "print(complex1, type(complex1))\n",
    "print(complex1.real)\n",
    "print(complex1.imag)"
   ]
  },
  {
   "cell_type": "code",
   "execution_count": 163,
   "metadata": {},
   "outputs": [
    {
     "output_type": "stream",
     "name": "stdout",
     "text": [
      "Python <class 'str'>\nP\ny\nn\no\nt\nh\nyt\nth\ntho\nth\nPyth\nth\n"
     ]
    }
   ],
   "source": [
    "string1 = 'Python'\n",
    "print(string1, type(string1))\n",
    "print(string1[0])\n",
    "print(string1[1])\n",
    "print(string1[-1])\n",
    "print(string1[-2])\n",
    "print(string1[2])\n",
    "print(string1[-3])\n",
    "print(string1[1:3])\n",
    "print(string1[2:-2])\n",
    "print(string1[2:-1])\n",
    "print(string1[-4:4])\n",
    "print(string1[-6:4])\n",
    "print(string1[-4:-2])"
   ]
  },
  {
   "cell_type": "code",
   "execution_count": 165,
   "metadata": {},
   "outputs": [
    {
     "output_type": "execute_result",
     "data": {
      "text/plain": [
       "9"
      ]
     },
     "metadata": {},
     "execution_count": 165
    }
   ],
   "source": [
    "def lenstr():\n",
    "    x = str(input(\"Input text:\"))\n",
    "    return len(x)\n",
    "\n",
    "lenstr()"
   ]
  },
  {
   "cell_type": "code",
   "execution_count": 168,
   "metadata": {},
   "outputs": [
    {
     "output_type": "execute_result",
     "data": {
      "text/plain": [
       "'Yes'"
      ]
     },
     "metadata": {},
     "execution_count": 168
    }
   ],
   "source": [
    "def checkก():\n",
    "    x = input(\"Input text:\")\n",
    "    for text in x:\n",
    "        if text == \"ก\":\n",
    "            return \"Yes\"\n",
    "        else:\n",
    "            return \"No\"\n",
    "\n",
    "checkก()"
   ]
  },
  {
   "cell_type": "code",
   "execution_count": 172,
   "metadata": {},
   "outputs": [
    {
     "output_type": "stream",
     "name": "stdout",
     "text": [
      "False\n"
     ]
    }
   ],
   "source": [
    "def checktext():\n",
    "    x = input(\"Input string1:\")\n",
    "    y = input(\"Input string2:\")\n",
    "    print(y in x)\n",
    "\n",
    "checktext()"
   ]
  },
  {
   "cell_type": "code",
   "execution_count": 1,
   "metadata": {},
   "outputs": [
    {
     "output_type": "execute_result",
     "data": {
      "text/plain": [
       "'kskhfkfkdslfdddAAjfhAlsdA'"
      ]
     },
     "metadata": {},
     "execution_count": 1
    }
   ],
   "source": [
    "def bigA():\n",
    "    x = input(\"Input string:\")\n",
    "    return x.replace('a', 'A')\n",
    "\n",
    "bigA()"
   ]
  },
  {
   "cell_type": "code",
   "execution_count": 3,
   "metadata": {},
   "outputs": [
    {
     "output_type": "execute_result",
     "data": {
      "text/plain": [
       "'AAA'"
      ]
     },
     "metadata": {},
     "execution_count": 3
    }
   ],
   "source": [
    "def big_string():\n",
    "    string1 = input('Input string:')\n",
    "    string2 = string1.replace('a', 'A')\n",
    "    return string2\n",
    "\n",
    "big_string()"
   ]
  },
  {
   "cell_type": "code",
   "execution_count": 5,
   "metadata": {},
   "outputs": [
    {
     "output_type": "execute_result",
     "data": {
      "text/plain": [
       "['I', 'am', 'learning', 'Python']"
      ]
     },
     "metadata": {},
     "execution_count": 5
    }
   ],
   "source": [
    "def spilt():\n",
    "    x = input(\"Input senctence:\")\n",
    "    return x.split(\" \")  \n",
    "\n",
    "spilt()"
   ]
  },
  {
   "cell_type": "code",
   "execution_count": 7,
   "metadata": {},
   "outputs": [
    {
     "output_type": "execute_result",
     "data": {
      "text/plain": [
       "['I', 'am', 'learning', 'Python']"
      ]
     },
     "metadata": {},
     "execution_count": 7
    }
   ],
   "source": [
    "def morespilt():\n",
    "    x = input(\"Input senctence:\")\n",
    "    y = input('Input keyword:')\n",
    "    return x.split(y)\n",
    "\n",
    "morespilt()"
   ]
  },
  {
   "cell_type": "code",
   "execution_count": 11,
   "metadata": {},
   "outputs": [
    {
     "output_type": "execute_result",
     "data": {
      "text/plain": [
       "'Friday'"
      ]
     },
     "metadata": {},
     "execution_count": 11
    }
   ],
   "source": [
    "def concatxy():\n",
    "    x = input('Input senctence1:')\n",
    "    y = input('Input senctence2:')\n",
    "    return x + y\n",
    "\n",
    "concatxy()"
   ]
  },
  {
   "cell_type": "code",
   "execution_count": 26,
   "metadata": {},
   "outputs": [
    {
     "output_type": "stream",
     "name": "stdout",
     "text": [
      "[0, 1, 2, 'a', 'b', 'c']\n<class 'list'>\n2\na\n0\nb\n[2]\n[1, 2, 'a']\n[1, 2, 'a', 'b']\n['a', 'b', 'c']\n[0, 1, 2]\n"
     ]
    }
   ],
   "source": [
    "list1 = [0, 1, 2, 'a', 'b', 'c']\n",
    "print(list1)\n",
    "print(type(list1))\n",
    "print(list1[2])\n",
    "print(list1[-3])\n",
    "print(list1[0])\n",
    "print(list1[4])\n",
    "print(list1[2 :3])\n",
    "print(list1[1: -2])\n",
    "print(list1[1:5])\n",
    "print(list1[3:])\n",
    "print(list1[:3])"
   ]
  },
  {
   "cell_type": "code",
   "execution_count": 28,
   "metadata": {},
   "outputs": [
    {
     "output_type": "execute_result",
     "data": {
      "text/plain": [
       "['ant', 'bird', 'cat', 'duck', 'eagle']"
      ]
     },
     "metadata": {},
     "execution_count": 28
    }
   ],
   "source": [
    "list2 = ['ant', 'bird', 'cat', 'dog', 'eagle']\n",
    "list2[3] = 'duck'\n",
    "print(list2)"
   ]
  },
  {
   "cell_type": "code",
   "execution_count": 29,
   "metadata": {},
   "outputs": [
    {
     "output_type": "stream",
     "name": "stdout",
     "text": [
      "['ape', 'bird', 'cat', 'dog', 'eagle']\n"
     ]
    }
   ],
   "source": [
    "list2 = ['ant', 'bird', 'cat', 'dog', 'eagle']\n",
    "list2[0] = 'ape'\n",
    "print(list2)"
   ]
  },
  {
   "cell_type": "code",
   "execution_count": 30,
   "metadata": {},
   "outputs": [
    {
     "output_type": "stream",
     "name": "stdout",
     "text": [
      "['ant', 'bird', 'cat', 'dog', 'eagle', 'fish']\n"
     ]
    }
   ],
   "source": [
    "list2 = ['ant', 'bird', 'cat', 'dog', 'eagle']\n",
    "list2.append('fish')\n",
    "print(list2)"
   ]
  },
  {
   "cell_type": "code",
   "execution_count": 5,
   "metadata": {},
   "outputs": [
    {
     "output_type": "stream",
     "name": "stdout",
     "text": [
      "['TR', 'EW', 'FG']\n"
     ]
    }
   ],
   "source": [
    "def emtrylist():\n",
    "    emtry_list = []\n",
    "    i = 1\n",
    "    while i <= 3:\n",
    "        x = input(f'Input str{i}:')\n",
    "        emtry_list.append(x)\n",
    "        i += 1\n",
    "    print(emtry_list)\n",
    "    \n",
    "emtrylist()"
   ]
  },
  {
   "cell_type": "code",
   "execution_count": 2,
   "metadata": {},
   "outputs": [
    {
     "output_type": "stream",
     "name": "stdout",
     "text": [
      "['apple', 'banana', 'cherry', 'eggfruit']\n['apple', 'banana', 'kiwi', 'cherry', 'eggfruit']\n"
     ]
    }
   ],
   "source": [
    "list3 = ['apple', 'cherry', 'eggfruit']\n",
    "list3.insert(1, 'banana')\n",
    "print(list3)\n",
    "\n",
    "list3.insert(-2, 'kiwi')\n",
    "print(list3)"
   ]
  },
  {
   "cell_type": "code",
   "execution_count": 5,
   "metadata": {},
   "outputs": [
    {
     "output_type": "stream",
     "name": "stdout",
     "text": [
      "[0, 1, 2, 3, 4]\n[4, 3, 2, 1, 0]\n"
     ]
    }
   ],
   "source": [
    "list4 = [0, 4, 2, 3, 1]\n",
    "list4.sort()\n",
    "print(list4)\n",
    "list4.sort(reverse = True)\n",
    "print(list4)"
   ]
  },
  {
   "cell_type": "code",
   "execution_count": 7,
   "metadata": {},
   "outputs": [
    {
     "output_type": "stream",
     "name": "stdout",
     "text": [
      "[0, 1, 2, 3, 4] \n[0, 4, 2, 3, 1]\n"
     ]
    }
   ],
   "source": [
    "list4 = [0, 4, 2, 3, 1]\n",
    "sorted_list4 = sorted(list4)\n",
    "print(f\"\"\"{sorted_list4} \n",
    "{list4}\"\"\")"
   ]
  },
  {
   "cell_type": "code",
   "execution_count": 1,
   "metadata": {},
   "outputs": [
    {
     "output_type": "stream",
     "name": "stdout",
     "text": [
      "[4, 3, 2, 1, 0]\n[0, 4, 2, 3, 1]\n"
     ]
    }
   ],
   "source": [
    "list4 = [0, 4, 2, 3, 1]\n",
    "sorted_list4 = sorted(list4, reverse = True)\n",
    "print(f'''{sorted_list4}\n",
    "{list4}''')"
   ]
  },
  {
   "cell_type": "code",
   "execution_count": 2,
   "metadata": {},
   "outputs": [
    {
     "output_type": "stream",
     "name": "stdout",
     "text": [
      "['a', 'c', 'd', 'd', 'e']\n['d', 'a', 'c', 'd', 'e']\n"
     ]
    }
   ],
   "source": [
    "list5 = ['d', 'a', 'c', 'd', 'e']\n",
    "sorted_list5 = sorted(list5, reverse = False)\n",
    "print(f'''{sorted_list5}\n",
    "{list5}''')"
   ]
  },
  {
   "cell_type": "code",
   "execution_count": 4,
   "metadata": {},
   "outputs": [
    {
     "output_type": "stream",
     "name": "stdout",
     "text": [
      "['e', 'd', 'd', 'c', 'a']\n['d', 'a', 'c', 'd', 'e']\n"
     ]
    }
   ],
   "source": [
    "list5 = ['d', 'a', 'c', 'd', 'e']\n",
    "sorted_list5_2 = sorted(list5, reverse = True)\n",
    "print(f'''{sorted_list5_2}\n",
    "{list5}''')"
   ]
  },
  {
   "cell_type": "code",
   "execution_count": 10,
   "metadata": {},
   "outputs": [
    {
     "output_type": "stream",
     "name": "stdout",
     "text": [
      "['a', 'b', 'c', 0, 1, 2]\n"
     ]
    }
   ],
   "source": [
    "list1 = ['a', 'b', 'c']\n",
    "list2 = [0, 1, 2]\n",
    "list1.extend(list2)\n",
    "print(list1)"
   ]
  },
  {
   "cell_type": "code",
   "execution_count": 12,
   "metadata": {},
   "outputs": [
    {
     "output_type": "stream",
     "name": "stdout",
     "text": [
      "['a', 'b', 'c']\n[0, 1, 2]\n['a', 'b', 'c', 0, 1, 2]\n"
     ]
    }
   ],
   "source": [
    "list1 = ['a', 'b', 'c']\n",
    "list2 = [0, 1, 2]\n",
    "list3 = list1 + list2\n",
    "print(f'''{list1}\n",
    "{list2}\n",
    "{list3}''')"
   ]
  },
  {
   "cell_type": "code",
   "execution_count": 14,
   "metadata": {},
   "outputs": [
    {
     "output_type": "stream",
     "name": "stdout",
     "text": [
      "[2, 3, 1, 2, 3]\n"
     ]
    }
   ],
   "source": [
    "list1 = [1, 2, 3, 1, 2, 3]\n",
    "del list1[0]\n",
    "print(list1)"
   ]
  },
  {
   "cell_type": "code",
   "execution_count": 23,
   "metadata": {},
   "outputs": [
    {
     "output_type": "stream",
     "name": "stdout",
     "text": [
      "[1, 2, 1, 2]\n"
     ]
    }
   ],
   "source": [
    "list1 = [1 , 2, 3, 1, 2, 3]\n",
    "list1 = [x for x in list1 if x != 3]\n",
    "print(list1)"
   ]
  },
  {
   "cell_type": "code",
   "execution_count": 33,
   "metadata": {},
   "outputs": [
    {
     "output_type": "stream",
     "name": "stdout",
     "text": [
      "[1, 2, 1, 2]\n"
     ]
    }
   ],
   "source": [
    "list1 = [1, 2, 3, 1, 2, 3]\n",
    "x = 0\n",
    "while x < len(list1):\n",
    "    if list1[x] == 3:\n",
    "        del list1[x]\n",
    "    else:\n",
    "        x += 1\n",
    "print(list1)"
   ]
  },
  {
   "cell_type": "code",
   "execution_count": 37,
   "metadata": {},
   "outputs": [
    {
     "output_type": "stream",
     "name": "stdout",
     "text": [
      "[2, 3, 1, 2, 3]\n"
     ]
    }
   ],
   "source": [
    "list1 = [1, 2, 3, 1, 2, 3]\n",
    "list1.remove(1)\n",
    "print(list1)"
   ]
  },
  {
   "cell_type": "code",
   "execution_count": 38,
   "metadata": {},
   "outputs": [
    {
     "output_type": "stream",
     "name": "stdout",
     "text": [
      "[2, 3, 2, 3]\n"
     ]
    }
   ],
   "source": [
    "list1 = [1, 2, 3, 1, 2, 3]\n",
    "list1.remove(1)\n",
    "list1.remove(1)\n",
    "print(list1)"
   ]
  },
  {
   "cell_type": "code",
   "execution_count": 35,
   "metadata": {},
   "outputs": [
    {
     "output_type": "stream",
     "name": "stdout",
     "text": [
      "[2, 3, 2, 3]\n"
     ]
    }
   ],
   "source": [
    "list1 = [1, 2, 3, 1, 2, 3]\n",
    "x = 0\n",
    "while x < len(list1):\n",
    "    if list1[x] == 1:\n",
    "        list1.remove(list1[x])\n",
    "    else:\n",
    "        x += 1\n",
    "print(list1)"
   ]
  },
  {
   "cell_type": "code",
   "execution_count": 40,
   "metadata": {},
   "outputs": [
    {
     "output_type": "stream",
     "name": "stdout",
     "text": [
      "[]\n"
     ]
    }
   ],
   "source": [
    "list1 = [1, 2, 3, 1, 2, 3]\n",
    "list1.clear()\n",
    "print(list1)"
   ]
  },
  {
   "cell_type": "code",
   "execution_count": 44,
   "metadata": {},
   "outputs": [
    {
     "output_type": "execute_result",
     "data": {
      "text/plain": [
       "6"
      ]
     },
     "metadata": {},
     "execution_count": 44
    }
   ],
   "source": [
    "list1 = [1, 2, 3, 'a', 'b', 'c']\n",
    "len(list1)"
   ]
  },
  {
   "cell_type": "code",
   "execution_count": 46,
   "metadata": {},
   "outputs": [
    {
     "output_type": "stream",
     "name": "stdout",
     "text": [
      "NO :(\n"
     ]
    }
   ],
   "source": [
    "def checklist(x):\n",
    "    list1 = [1, 2, 3, 4, 5]\n",
    "    if x in list1:\n",
    "        print(\"YES!!\")\n",
    "    else:\n",
    "        print(\"NO :(\")\n",
    "\n",
    "checklist(7)"
   ]
  },
  {
   "cell_type": "code",
   "execution_count": 48,
   "metadata": {},
   "outputs": [
    {
     "output_type": "stream",
     "name": "stdout",
     "text": [
      "('America', 'Brazil', 'China', 'Dominican', 'Egypt')\n<class 'tuple'>\n"
     ]
    }
   ],
   "source": [
    "tuple1 = ('America', 'Brazil', 'China', 'Dominican', 'Egypt')\n",
    "print(f'''{tuple1}\n",
    "{type(tuple1)}''')"
   ]
  },
  {
   "cell_type": "code",
   "execution_count": 50,
   "metadata": {},
   "outputs": [
    {
     "output_type": "execute_result",
     "data": {
      "text/plain": [
       "'Brazil'"
      ]
     },
     "metadata": {},
     "execution_count": 50
    }
   ],
   "source": [
    "tuple1 = ('America', 'Brazil', 'China', 'Dominican', 'Egypt')\n",
    "tuple1[1]"
   ]
  },
  {
   "cell_type": "code",
   "execution_count": 51,
   "metadata": {},
   "outputs": [
    {
     "output_type": "execute_result",
     "data": {
      "text/plain": [
       "'Dominican'"
      ]
     },
     "metadata": {},
     "execution_count": 51
    }
   ],
   "source": [
    "tuple1 = ('America', 'Blazil', 'China', 'Dominican', 'Egypt')\n",
    "tuple1[-2]"
   ]
  },
  {
   "cell_type": "code",
   "execution_count": 53,
   "metadata": {},
   "outputs": [
    {
     "output_type": "execute_result",
     "data": {
      "text/plain": [
       "'China'"
      ]
     },
     "metadata": {},
     "execution_count": 53
    }
   ],
   "source": [
    "tuple1 = ('America', 'Blazil', 'China', 'Dominican', 'Egypt')\n",
    "tuple1[2]"
   ]
  },
  {
   "cell_type": "code",
   "execution_count": 54,
   "metadata": {},
   "outputs": [
    {
     "output_type": "execute_result",
     "data": {
      "text/plain": [
       "'Egypt'"
      ]
     },
     "metadata": {},
     "execution_count": 54
    }
   ],
   "source": [
    "tuple1 = ('American', 'Blazil', 'China', 'Dominican', 'Egypt')\n",
    "tuple1[-1]"
   ]
  },
  {
   "cell_type": "code",
   "execution_count": 55,
   "metadata": {},
   "outputs": [
    {
     "output_type": "stream",
     "name": "stdout",
     "text": [
      "('two', 'three')\n"
     ]
    }
   ],
   "source": [
    "tuple2 = ('one', 'two', 'three', 1, 2, 3)\n",
    "print(tuple2[1:3])"
   ]
  },
  {
   "cell_type": "code",
   "execution_count": 56,
   "metadata": {},
   "outputs": [
    {
     "output_type": "stream",
     "name": "stdout",
     "text": [
      "('three', 1)\n"
     ]
    }
   ],
   "source": [
    "tuple2 = ('one', 'two', 'three', 1, 2, 3)\n",
    "print(tuple2[2:-2])"
   ]
  },
  {
   "cell_type": "code",
   "execution_count": 57,
   "metadata": {},
   "outputs": [
    {
     "output_type": "stream",
     "name": "stdout",
     "text": [
      "('three', 1)\n"
     ]
    }
   ],
   "source": [
    "tuple2 = ('one', 'two', 'three', 1, 2, 3)\n",
    "print(tuple2[2:4])"
   ]
  },
  {
   "cell_type": "code",
   "execution_count": 58,
   "metadata": {},
   "outputs": [
    {
     "output_type": "stream",
     "name": "stdout",
     "text": [
      "('one', 'two', 'three')\n"
     ]
    }
   ],
   "source": [
    "tuple2 = ('one', 'two', 'three', 1, 2, 3)\n",
    "print(tuple2[0:3])"
   ]
  },
  {
   "cell_type": "code",
   "execution_count": 60,
   "metadata": {},
   "outputs": [
    {
     "output_type": "stream",
     "name": "stdout",
     "text": [
      "(1, 2, 3)\n"
     ]
    }
   ],
   "source": [
    "tuple2 = ('one', 'two', 'three', 1, 2, 3)\n",
    "print(tuple2[3:])"
   ]
  },
  {
   "cell_type": "code",
   "execution_count": 61,
   "metadata": {},
   "outputs": [
    {
     "output_type": "execute_result",
     "data": {
      "text/plain": [
       "5"
      ]
     },
     "metadata": {},
     "execution_count": 61
    }
   ],
   "source": [
    "tuple3 = ('one', 'two', 'three', 'four', 'five')\n",
    "len(tuple3)"
   ]
  },
  {
   "cell_type": "code",
   "execution_count": 80,
   "metadata": {},
   "outputs": [
    {
     "output_type": "stream",
     "name": "stdout",
     "text": [
      "True\n"
     ]
    }
   ],
   "source": [
    "def check() -> str:\n",
    "    tuple3 = ('one', 'two', 'three', 'four', 'five')\n",
    "    x: str = str(input(\"Input str1:\"))\n",
    "    assert isinstance(x, str), \"X should be str1\"\n",
    "    print(x in tuple3)\n",
    "\n",
    "check()"
   ]
  },
  {
   "cell_type": "code",
   "execution_count": 81,
   "metadata": {},
   "outputs": [
    {
     "output_type": "stream",
     "name": "stdout",
     "text": [
      "{'first_name': 'John', 'last_name': 'Doe'}\n"
     ]
    }
   ],
   "source": [
    "dict1 = {'first_name': 'John',\n",
    "         'last_name': 'Doe'}\n",
    "print(dict1)"
   ]
  },
  {
   "cell_type": "code",
   "execution_count": 82,
   "metadata": {},
   "outputs": [
    {
     "output_type": "stream",
     "name": "stdout",
     "text": [
      "John\n"
     ]
    }
   ],
   "source": [
    "dict1 = {'first_name': 'John',\n",
    "         'last_name': 'Doe'}\n",
    "print(dict1['first_name'])"
   ]
  },
  {
   "cell_type": "code",
   "execution_count": 83,
   "metadata": {},
   "outputs": [
    {
     "output_type": "stream",
     "name": "stdout",
     "text": [
      "Doe\n"
     ]
    }
   ],
   "source": [
    "dict1 = {\n",
    "    'first_name': 'John',\n",
    "    'last_name': 'Doe'\n",
    "}\n",
    "print(dict1['last_name'])"
   ]
  },
  {
   "cell_type": "code",
   "execution_count": 85,
   "metadata": {},
   "outputs": [
    {
     "output_type": "stream",
     "name": "stdout",
     "text": [
      "dict_keys(['first_name', 'last_name'])\n"
     ]
    }
   ],
   "source": [
    "dict1 = {\n",
    "    'first_name': 'John',\n",
    "    'last_name': 'Doe'\n",
    "}\n",
    "print(dict1.keys())"
   ]
  },
  {
   "cell_type": "code",
   "execution_count": 86,
   "metadata": {},
   "outputs": [
    {
     "output_type": "stream",
     "name": "stdout",
     "text": [
      "{'first_name': 'Jane', 'last_name': 'Doe'}\n"
     ]
    }
   ],
   "source": [
    "dict1 = {\n",
    "    'first_name': 'John',\n",
    "    'last_name': 'Doe'\n",
    "}\n",
    "dict1['first_name'] = 'Jane'\n",
    "print(dict1)"
   ]
  },
  {
   "cell_type": "code",
   "execution_count": 88,
   "metadata": {},
   "outputs": [
    {
     "output_type": "stream",
     "name": "stdout",
     "text": [
      "{'first_name': 'John', 'last_name': 'Doe', 'age': 32}\n"
     ]
    }
   ],
   "source": [
    "dict1 = {\n",
    "    'first_name': 'John',\n",
    "    'last_name': 'Doe'\n",
    "}\n",
    "dict1.update({'age': 32})\n",
    "print(dict1)"
   ]
  },
  {
   "cell_type": "code",
   "execution_count": 89,
   "metadata": {},
   "outputs": [
    {
     "output_type": "stream",
     "name": "stdout",
     "text": [
      "{'first_name': 'John', 'last_name': 'Doe', 'age': 32, 'hobby': ['coding', 'studying']}\n"
     ]
    }
   ],
   "source": [
    "dict1 = {\n",
    "    'first_name': 'John',\n",
    "    'last_name': 'Doe'\n",
    "}\n",
    "\n",
    "dict1.update({\n",
    "    'age': 32,\n",
    "    'hobby': ['coding', 'studying']\n",
    "})\n",
    "print(dict1)"
   ]
  },
  {
   "cell_type": "code",
   "execution_count": 1,
   "metadata": {},
   "outputs": [
    {
     "output_type": "stream",
     "name": "stdout",
     "text": [
      "Hello\n"
     ]
    }
   ],
   "source": [
    "print(\"Hello\")"
   ]
  },
  {
   "cell_type": "code",
   "execution_count": null,
   "metadata": {},
   "outputs": [],
   "source": []
  }
 ]
}