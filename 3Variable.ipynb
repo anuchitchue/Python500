{
 "metadata": {
  "language_info": {
   "codemirror_mode": {
    "name": "ipython",
    "version": 3
   },
   "file_extension": ".py",
   "mimetype": "text/x-python",
   "name": "python",
   "nbconvert_exporter": "python",
   "pygments_lexer": "ipython3",
   "version": "3.8.5"
  },
  "orig_nbformat": 2,
  "kernelspec": {
   "name": "python385jvsc74a57bd0fbd9a4a8e47d79a40c1377e319070dbc6922dca4dc05363d8a2a8ef7c112697d",
   "display_name": "Python 3.8.5 64-bit ('base': conda)"
  }
 },
 "nbformat": 4,
 "nbformat_minor": 2,
 "cells": [
  {
   "cell_type": "code",
   "execution_count": 1,
   "metadata": {},
   "outputs": [
    {
     "output_type": "stream",
     "name": "stdout",
     "text": [
      "Hello\n"
     ]
    }
   ],
   "source": [
    "print(\"Hello\")"
   ]
  },
  {
   "cell_type": "code",
   "execution_count": 1,
   "metadata": {},
   "outputs": [
    {
     "output_type": "stream",
     "name": "stdout",
     "text": [
      "My firstname is John.\nMy lastname is Doe.\nI'm 32 years old.\n"
     ]
    }
   ],
   "source": [
    "# Create & Assign\n",
    "firstname = 'John'\n",
    "lastname = 'Doe'\n",
    "age_full = 'I\\'m 32 years old.'\n",
    "print('My firstname is', firstname + '.')\n",
    "print('My lastname is', lastname + '.')\n",
    "print(age_full)"
   ]
  },
  {
   "cell_type": "code",
   "execution_count": 2,
   "metadata": {},
   "outputs": [
    {
     "output_type": "stream",
     "name": "stdout",
     "text": [
      "a = 5\nb = 7\n"
     ]
    }
   ],
   "source": [
    "a = 5\n",
    "b = 7\n",
    "print('a =', a)\n",
    "print('b =', b)"
   ]
  },
  {
   "cell_type": "code",
   "execution_count": 4,
   "metadata": {},
   "outputs": [
    {
     "output_type": "stream",
     "name": "stdout",
     "text": [
      "c = 5\nd = 5\ne = 5\n"
     ]
    }
   ],
   "source": [
    "# Create Multiple Variable\n",
    "c = d = e = 5\n",
    "print('c =', c)\n",
    "print('d =', d)\n",
    "print('e =', e)"
   ]
  },
  {
   "cell_type": "code",
   "execution_count": 6,
   "metadata": {},
   "outputs": [
    {
     "output_type": "stream",
     "name": "stdout",
     "text": [
      "f = 6\ng = 7\nh = 8\n"
     ]
    }
   ],
   "source": [
    "f = 6; g = 7; h = 8;  #>>> equal to f,g,h = 6,7,8\n",
    "print('f =', f)\n",
    "print('g =', g)\n",
    "print('h =', h)"
   ]
  },
  {
   "cell_type": "code",
   "execution_count": 11,
   "metadata": {},
   "outputs": [
    {
     "output_type": "stream",
     "name": "stdout",
     "text": [
      "5 4\n4 6\n"
     ]
    }
   ],
   "source": [
    "# Identifier\n",
    "    # Charecter & Underscore First\n",
    "a1 = 5\n",
    "_a1 = 4\n",
    "print(a1, _a1)\n",
    "    # Case sensitive\n",
    "r = 4\n",
    "R = 6\n",
    "print(r,R)\n",
    "    # No Special Charecter\n",
    "    # Reversed Word >>> if, else, for, print"
   ]
  },
  {
   "source": [
    "# Exercises"
   ],
   "cell_type": "markdown",
   "metadata": {}
  },
  {
   "cell_type": "code",
   "execution_count": null,
   "metadata": {},
   "outputs": [],
   "source": []
  }
 ]
}