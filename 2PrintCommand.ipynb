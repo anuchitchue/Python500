{
 "metadata": {
  "language_info": {
   "codemirror_mode": {
    "name": "ipython",
    "version": 3
   },
   "file_extension": ".py",
   "mimetype": "text/x-python",
   "name": "python",
   "nbconvert_exporter": "python",
   "pygments_lexer": "ipython3",
   "version": "3.8.5"
  },
  "orig_nbformat": 2,
  "kernelspec": {
   "name": "python385jvsc74a57bd0fbd9a4a8e47d79a40c1377e319070dbc6922dca4dc05363d8a2a8ef7c112697d",
   "display_name": "Python 3.8.5 64-bit ('base': conda)"
  }
 },
 "nbformat": 4,
 "nbformat_minor": 2,
 "cells": [
  {
   "cell_type": "code",
   "execution_count": 2,
   "metadata": {},
   "outputs": [
    {
     "output_type": "stream",
     "name": "stdout",
     "text": [
      "Hello\n"
     ]
    }
   ],
   "source": [
    "print(\"Hello\")"
   ]
  },
  {
   "cell_type": "code",
   "execution_count": 3,
   "metadata": {},
   "outputs": [
    {
     "output_type": "stream",
     "name": "stdout",
     "text": [
      "I Love Python\n"
     ]
    }
   ],
   "source": [
    "print(\"I Love Python\")"
   ]
  },
  {
   "cell_type": "code",
   "execution_count": 4,
   "metadata": {},
   "outputs": [
    {
     "output_type": "stream",
     "name": "stdout",
     "text": [
      "100\n"
     ]
    }
   ],
   "source": [
    "print('100')"
   ]
  },
  {
   "cell_type": "code",
   "execution_count": 5,
   "metadata": {},
   "outputs": [
    {
     "output_type": "stream",
     "name": "stdout",
     "text": [
      "\nHello\nHello Python\nI Love Python\n\n"
     ]
    }
   ],
   "source": [
    "print('''\n",
    "Hello\n",
    "Hello Python\n",
    "I Love Python\n",
    "''')"
   ]
  },
  {
   "cell_type": "code",
   "execution_count": 6,
   "metadata": {},
   "outputs": [
    {
     "output_type": "stream",
     "name": "stdout",
     "text": [
      "\nHello\nHello Python\nI Love Python\n\n"
     ]
    }
   ],
   "source": [
    "print(\"\"\"\n",
    "Hello\n",
    "Hello Python\n",
    "I Love Python\n",
    "\"\"\")"
   ]
  },
  {
   "cell_type": "code",
   "execution_count": 7,
   "metadata": {},
   "outputs": [
    {
     "output_type": "stream",
     "name": "stdout",
     "text": [
      "It's me\n"
     ]
    }
   ],
   "source": [
    "print(\"It's me\")"
   ]
  },
  {
   "cell_type": "code",
   "execution_count": 8,
   "metadata": {},
   "outputs": [
    {
     "output_type": "stream",
     "name": "stdout",
     "text": [
      "It's me\n"
     ]
    }
   ],
   "source": [
    "print('It\\'s me')"
   ]
  },
  {
   "cell_type": "code",
   "execution_count": 9,
   "metadata": {},
   "outputs": [
    {
     "output_type": "stream",
     "name": "stdout",
     "text": [
      "He said \"Python is my life.\"\n"
     ]
    }
   ],
   "source": [
    "print('He said \"Python is my life.\"')"
   ]
  },
  {
   "cell_type": "code",
   "execution_count": 10,
   "metadata": {},
   "outputs": [
    {
     "output_type": "stream",
     "name": "stdout",
     "text": [
      "He said \"Python is my life\".\n"
     ]
    }
   ],
   "source": [
    "print(\"He said \\\"Python is my life\\\".\")"
   ]
  },
  {
   "cell_type": "code",
   "execution_count": 11,
   "metadata": {},
   "outputs": [
    {
     "output_type": "stream",
     "name": "stdout",
     "text": [
      "/\\\n"
     ]
    }
   ],
   "source": [
    "print('/\\\\')"
   ]
  },
  {
   "cell_type": "code",
   "execution_count": 12,
   "metadata": {},
   "outputs": [
    {
     "output_type": "stream",
     "name": "stdout",
     "text": [
      "/\\/\\/\\\n"
     ]
    }
   ],
   "source": [
    "print('/\\\\/\\\\/\\\\')"
   ]
  },
  {
   "cell_type": "code",
   "execution_count": 13,
   "metadata": {},
   "outputs": [
    {
     "output_type": "stream",
     "name": "stdout",
     "text": [
      "4\n"
     ]
    }
   ],
   "source": [
    "print(4)"
   ]
  },
  {
   "cell_type": "code",
   "execution_count": 14,
   "metadata": {},
   "outputs": [
    {
     "output_type": "stream",
     "name": "stdout",
     "text": [
      "3.5\n"
     ]
    }
   ],
   "source": [
    "print(3.50)"
   ]
  },
  {
   "cell_type": "code",
   "execution_count": 15,
   "metadata": {},
   "outputs": [
    {
     "output_type": "stream",
     "name": "stdout",
     "text": [
      "3\n"
     ]
    }
   ],
   "source": [
    "print('%d' %3)"
   ]
  },
  {
   "cell_type": "code",
   "execution_count": 16,
   "metadata": {},
   "outputs": [
    {
     "output_type": "stream",
     "name": "stdout",
     "text": [
      "1.000000\n"
     ]
    }
   ],
   "source": [
    "print('%f' %1)"
   ]
  },
  {
   "cell_type": "code",
   "execution_count": 17,
   "metadata": {},
   "outputs": [
    {
     "output_type": "stream",
     "name": "stdout",
     "text": [
      "3.51\n"
     ]
    }
   ],
   "source": [
    "print('%.2f' %3.507)"
   ]
  },
  {
   "cell_type": "code",
   "execution_count": 18,
   "metadata": {},
   "outputs": [
    {
     "output_type": "stream",
     "name": "stdout",
     "text": [
      "3\n"
     ]
    }
   ],
   "source": [
    "print('%s' %3)"
   ]
  },
  {
   "cell_type": "code",
   "execution_count": 19,
   "metadata": {},
   "outputs": [
    {
     "output_type": "stream",
     "name": "stdout",
     "text": [
      "3.56834877632965\n"
     ]
    }
   ],
   "source": [
    "print('%s' %3.56834877632965)"
   ]
  },
  {
   "cell_type": "code",
   "execution_count": 20,
   "metadata": {},
   "outputs": [
    {
     "output_type": "stream",
     "name": "stdout",
     "text": [
      "2 5.000 7.23\n"
     ]
    }
   ],
   "source": [
    "print('%d %.3f %s' %(2, 5, 7.23))"
   ]
  },
  {
   "cell_type": "code",
   "execution_count": 21,
   "metadata": {},
   "outputs": [
    {
     "output_type": "stream",
     "name": "stdout",
     "text": [
      "3.00 3.0 3\n"
     ]
    }
   ],
   "source": [
    "print('%.2f %s %d' %(3, 3.0, 3))"
   ]
  },
  {
   "cell_type": "code",
   "execution_count": 22,
   "metadata": {},
   "outputs": [
    {
     "output_type": "stream",
     "name": "stdout",
     "text": [
      "I Love You 3000\n"
     ]
    }
   ],
   "source": [
    "print('I Love You', 3000)"
   ]
  },
  {
   "cell_type": "code",
   "execution_count": 23,
   "metadata": {},
   "outputs": [
    {
     "output_type": "stream",
     "name": "stdout",
     "text": [
      "5 + 7 = 12\n"
     ]
    }
   ],
   "source": [
    "print('5 + 7 =', 5 + 7)"
   ]
  },
  {
   "cell_type": "code",
   "execution_count": 24,
   "metadata": {},
   "outputs": [
    {
     "output_type": "stream",
     "name": "stdout",
     "text": [
      "I Love You 3000\n"
     ]
    }
   ],
   "source": [
    "print(\"I Love You \" + str(3000))"
   ]
  },
  {
   "cell_type": "code",
   "execution_count": 25,
   "metadata": {},
   "outputs": [
    {
     "output_type": "stream",
     "name": "stdout",
     "text": [
      "5 + 7 = 12\n"
     ]
    }
   ],
   "source": [
    "print('5 + 7 = ' + str(5 + 7))"
   ]
  },
  {
   "cell_type": "code",
   "execution_count": 26,
   "metadata": {},
   "outputs": [
    {
     "output_type": "stream",
     "name": "stdout",
     "text": [
      "I Love You 3000\n"
     ]
    }
   ],
   "source": [
    "print('I Love You %d' %3000)"
   ]
  },
  {
   "cell_type": "code",
   "execution_count": 27,
   "metadata": {},
   "outputs": [
    {
     "output_type": "stream",
     "name": "stdout",
     "text": [
      "5 + 7 = 12\n"
     ]
    }
   ],
   "source": [
    "print('5 + 7 = %d' %(5 + 7))"
   ]
  },
  {
   "cell_type": "code",
   "execution_count": 28,
   "metadata": {},
   "outputs": [
    {
     "output_type": "stream",
     "name": "stdout",
     "text": [
      "y\n"
     ]
    }
   ],
   "source": [
    "print(\"y\")"
   ]
  },
  {
   "source": [
    "# Exercises"
   ],
   "cell_type": "markdown",
   "metadata": {}
  },
  {
   "cell_type": "code",
   "execution_count": 29,
   "metadata": {},
   "outputs": [
    {
     "output_type": "stream",
     "name": "stdout",
     "text": [
      "Hello\n"
     ]
    }
   ],
   "source": [
    "print(\"Hello\")"
   ]
  },
  {
   "cell_type": "code",
   "execution_count": 30,
   "metadata": {},
   "outputs": [
    {
     "output_type": "stream",
     "name": "stdout",
     "text": [
      "Hello World\n"
     ]
    }
   ],
   "source": [
    "print(\"Hello World\")"
   ]
  },
  {
   "cell_type": "code",
   "execution_count": 31,
   "metadata": {},
   "outputs": [
    {
     "output_type": "stream",
     "name": "stdout",
     "text": [
      "hello_python\n"
     ]
    }
   ],
   "source": [
    "print(\"hello_python\")"
   ]
  },
  {
   "cell_type": "code",
   "execution_count": 32,
   "metadata": {},
   "outputs": [
    {
     "output_type": "stream",
     "name": "stdout",
     "text": [
      "Merry X'Mas\n"
     ]
    }
   ],
   "source": [
    "print(\"Merry X'Mas\")"
   ]
  },
  {
   "cell_type": "code",
   "execution_count": 33,
   "metadata": {},
   "outputs": [
    {
     "output_type": "stream",
     "name": "stdout",
     "text": [
      "I want to ask you \"Why don't you drive to work ?\"\n"
     ]
    }
   ],
   "source": [
    "print(\"I want to ask you \\\"Why don't you drive to work ?\\\"\")"
   ]
  },
  {
   "cell_type": "code",
   "execution_count": 34,
   "metadata": {},
   "outputs": [
    {
     "output_type": "stream",
     "name": "stdout",
     "text": [
      "I don't have a car\n"
     ]
    }
   ],
   "source": [
    "print(\"I don't have a car\")"
   ]
  },
  {
   "cell_type": "code",
   "execution_count": 35,
   "metadata": {},
   "outputs": [
    {
     "output_type": "stream",
     "name": "stdout",
     "text": [
      "You got a new job !? That's so exciting\n"
     ]
    }
   ],
   "source": [
    "print(\"You got a new job !? That's so exciting\")"
   ]
  },
  {
   "cell_type": "code",
   "execution_count": 36,
   "metadata": {},
   "outputs": [
    {
     "output_type": "stream",
     "name": "stdout",
     "text": [
      "สวัสดีวันจันทร์\n"
     ]
    }
   ],
   "source": [
    "print(\"สวัสดีวันจันทร์\")"
   ]
  },
  {
   "cell_type": "code",
   "execution_count": 37,
   "metadata": {},
   "outputs": [
    {
     "output_type": "stream",
     "name": "stdout",
     "text": [
      "ความแตกต่างระหว่างคนเก่งกับคนไม่เก่ง คือ \"การใช้เวลาว่างให้เป็นประโยชน์\"\n"
     ]
    }
   ],
   "source": [
    "print(\"ความแตกต่างระหว่างคนเก่งกับคนไม่เก่ง คือ \\\"การใช้เวลาว่างให้เป็นประโยชน์\\\"\")"
   ]
  },
  {
   "cell_type": "code",
   "execution_count": 38,
   "metadata": {},
   "outputs": [
    {
     "output_type": "stream",
     "name": "stdout",
     "text": [
      "/\\/\\/\\\n"
     ]
    }
   ],
   "source": [
    "print(\"/\\\\/\\\\/\\\\\")"
   ]
  },
  {
   "cell_type": "code",
   "execution_count": 39,
   "metadata": {},
   "outputs": [
    {
     "output_type": "stream",
     "name": "stdout",
     "text": [
      "\na\nan\nant\n\n"
     ]
    }
   ],
   "source": [
    "print(\"\"\"\n",
    "a\n",
    "an\n",
    "ant\n",
    "\"\"\")"
   ]
  },
  {
   "cell_type": "code",
   "execution_count": 40,
   "metadata": {},
   "outputs": [
    {
     "output_type": "stream",
     "name": "stdout",
     "text": [
      "\n    *\n*   *   *\n    *\n\n"
     ]
    }
   ],
   "source": [
    "print(\"\"\"\n",
    "    *\n",
    "*   *   *\n",
    "    *\n",
    "\"\"\")"
   ]
  },
  {
   "cell_type": "code",
   "execution_count": 41,
   "metadata": {},
   "outputs": [
    {
     "output_type": "stream",
     "name": "stdout",
     "text": [
      "\n*   +   *\n+   *   +\n*   +   *\n\n"
     ]
    }
   ],
   "source": [
    "print(\"\"\"\n",
    "*   +   *\n",
    "+   *   +\n",
    "*   +   *\n",
    "\"\"\")"
   ]
  },
  {
   "cell_type": "code",
   "execution_count": 42,
   "metadata": {},
   "outputs": [
    {
     "output_type": "stream",
     "name": "stdout",
     "text": [
      "\nJust because something\nthanks differently from you,\ndoes that mean it's not thinking ?\n\n"
     ]
    }
   ],
   "source": [
    "print(\"\"\"\n",
    "Just because something\n",
    "thanks differently from you,\n",
    "does that mean it's not thinking ?\n",
    "\"\"\")"
   ]
  },
  {
   "cell_type": "code",
   "execution_count": 43,
   "metadata": {},
   "outputs": [
    {
     "output_type": "stream",
     "name": "stdout",
     "text": [
      "\n\\       /\n    x\n/       \\\n\n"
     ]
    }
   ],
   "source": [
    "print(\"\"\"\n",
    "\\\\       /\n",
    "    x\n",
    "/       \\\\\n",
    "\"\"\")"
   ]
  },
  {
   "cell_type": "code",
   "execution_count": 44,
   "metadata": {},
   "outputs": [
    {
     "output_type": "stream",
     "name": "stdout",
     "text": [
      "25\n"
     ]
    }
   ],
   "source": [
    "print(25)"
   ]
  },
  {
   "cell_type": "code",
   "execution_count": 45,
   "metadata": {},
   "outputs": [
    {
     "output_type": "stream",
     "name": "stdout",
     "text": [
      "100.000000\n"
     ]
    }
   ],
   "source": [
    "print(\"%.6f\" %100)"
   ]
  },
  {
   "cell_type": "code",
   "execution_count": 46,
   "metadata": {},
   "outputs": [
    {
     "output_type": "stream",
     "name": "stdout",
     "text": [
      "3.141592653589793\n"
     ]
    }
   ],
   "source": [
    "print(\"%s\" %3.141592653589793)"
   ]
  },
  {
   "cell_type": "code",
   "execution_count": 47,
   "metadata": {},
   "outputs": [
    {
     "output_type": "stream",
     "name": "stdout",
     "text": [
      "2\n"
     ]
    }
   ],
   "source": [
    "a = 2\n",
    "print(a)"
   ]
  },
  {
   "cell_type": "code",
   "execution_count": 48,
   "metadata": {},
   "outputs": [
    {
     "output_type": "stream",
     "name": "stdout",
     "text": [
      "12.5\n"
     ]
    }
   ],
   "source": [
    "a = 12.5\n",
    "print(\"%.1f\" %a)"
   ]
  },
  {
   "cell_type": "code",
   "execution_count": 49,
   "metadata": {},
   "outputs": [
    {
     "output_type": "stream",
     "name": "stdout",
     "text": [
      "2 x 3 = 6\n"
     ]
    }
   ],
   "source": [
    "a = 2\n",
    "b = 3\n",
    "print(f\"{a} x {b} = {a*b}\")"
   ]
  },
  {
   "cell_type": "code",
   "execution_count": 50,
   "metadata": {},
   "outputs": [
    {
     "output_type": "stream",
     "name": "stdout",
     "text": [
      "2 + 3 = 3 + 2 = 6\n"
     ]
    }
   ],
   "source": [
    "a = 2\n",
    "b = 3\n",
    "print(f\"{a} + {b} = {b} + {a} = {a*b}\")"
   ]
  },
  {
   "cell_type": "code",
   "execution_count": 51,
   "metadata": {},
   "outputs": [
    {
     "output_type": "stream",
     "name": "stdout",
     "text": [
      "2*(3 + 5) = 2*3 + 2*3\n"
     ]
    }
   ],
   "source": [
    "a = 2\n",
    "b = 3\n",
    "c = 5\n",
    "print(f\"{a}*({b} + {c}) = {a}*{b} + {a}*{b}\")"
   ]
  },
  {
   "cell_type": "code",
   "execution_count": 52,
   "metadata": {},
   "outputs": [
    {
     "output_type": "stream",
     "name": "stdout",
     "text": [
      "2.4 + 2.5 = 4.9000\n"
     ]
    }
   ],
   "source": [
    "a = 2.4\n",
    "b = 2.5\n",
    "print(\"%.1f + %.1f = %.4f\" %(a, b, (a+b)))"
   ]
  },
  {
   "cell_type": "code",
   "execution_count": 53,
   "metadata": {},
   "outputs": [
    {
     "output_type": "stream",
     "name": "stdout",
     "text": [
      "5.00 - 2.00 = 3.0000\n"
     ]
    }
   ],
   "source": [
    "a = 5\n",
    "b = 2\n",
    "print(\"%.2f - %.2f = %.4f\" %(a, b, (a-b)))"
   ]
  },
  {
   "cell_type": "code",
   "execution_count": 54,
   "metadata": {},
   "outputs": [
    {
     "output_type": "stream",
     "name": "stdout",
     "text": [
      "ฉันเกินวันที่ 25 ธันวาคม\n"
     ]
    }
   ],
   "source": [
    "birthday = 25\n",
    "print(f\"ฉันเกินวันที่ {birthday} ธันวาคม\")"
   ]
  },
  {
   "cell_type": "code",
   "execution_count": 55,
   "metadata": {},
   "outputs": [
    {
     "output_type": "stream",
     "name": "stdout",
     "text": [
      "5 เท่าของ 100 มีค่าเท่ากับ 500\n"
     ]
    }
   ],
   "source": [
    "a = 5\n",
    "b = 100\n",
    "print(f\"{a} เท่าของ {b} มีค่าเท่ากับ {a*b}\")"
   ]
  },
  {
   "cell_type": "code",
   "execution_count": 56,
   "metadata": {},
   "outputs": [
    {
     "output_type": "stream",
     "name": "stdout",
     "text": [
      "เขามีเงินเยอะกว่าฉัน 3.50 บาท\n"
     ]
    }
   ],
   "source": [
    "a = 3.5\n",
    "print(\"เขามีเงินเยอะกว่าฉัน %.2f บาท\" %a)"
   ]
  },
  {
   "cell_type": "code",
   "execution_count": 57,
   "metadata": {},
   "outputs": [
    {
     "output_type": "stream",
     "name": "stdout",
     "text": [
      "ฉันได้กำไร 5 %\n"
     ]
    }
   ],
   "source": [
    "a = 5\n",
    "print(\"ฉันได้กำไร %d %%\" %a)"
   ]
  },
  {
   "cell_type": "code",
   "execution_count": 58,
   "metadata": {},
   "outputs": [
    {
     "output_type": "stream",
     "name": "stdout",
     "text": [
      "เมื่อวานฉันขาดทุน 2 % วันนี้ฉันได้กำไร 3.50 %\n"
     ]
    }
   ],
   "source": [
    "a = 2\n",
    "b = 3.5\n",
    "print(\"เมื่อวานฉันขาดทุน %d %% วันนี้ฉันได้กำไร %.2f %%\" %(a,b))"
   ]
  },
  {
   "cell_type": "code",
   "execution_count": null,
   "metadata": {},
   "outputs": [],
   "source": []
  }
 ]
}